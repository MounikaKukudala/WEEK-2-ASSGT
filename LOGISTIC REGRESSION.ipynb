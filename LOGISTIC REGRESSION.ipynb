{
 "cells": [
  {
   "cell_type": "code",
   "execution_count": 22,
   "metadata": {
    "colab": {
     "base_uri": "https://localhost:8080/",
     "height": 71
    },
    "colab_type": "code",
    "executionInfo": {
     "elapsed": 2959,
     "status": "ok",
     "timestamp": 1587831772954,
     "user": {
      "displayName": "Rajshree Singh",
      "photoUrl": "",
      "userId": "13678216986636707717"
     },
     "user_tz": -330
    },
    "id": "_v5vdxDTAg2e",
    "outputId": "c130c359-58bd-46ae-cdfa-e7d4c84ecf91"
   },
   "outputs": [],
   "source": [
    "import tensorflow as tf\n",
    "%matplotlib inline\n",
    "import numpy as np # linear algebra\n",
    "import seaborn as sns #statistical data visualization\n",
    "sns.set(style='whitegrid')\n",
    "import pandas as pd # data processing, CSV file I/O (e.g. pd.read_csv)\n",
    "import matplotlib.pyplot as plt\n",
    "from sklearn import preprocessing"
   ]
  },
  {
   "cell_type": "code",
   "execution_count": 23,
   "metadata": {
    "colab": {
     "base_uri": "https://localhost:8080/",
     "height": 164
    },
    "colab_type": "code",
    "executionInfo": {
     "elapsed": 2541,
     "status": "error",
     "timestamp": 1587831778722,
     "user": {
      "displayName": "Rajshree Singh",
      "photoUrl": "",
      "userId": "13678216986636707717"
     },
     "user_tz": -330
    },
    "id": "tDpdz3P_Ag2o",
    "outputId": "f140b5f9-5a1d-4096-ca3b-4309bcdbd9ba"
   },
   "outputs": [
    {
     "data": {
      "text/html": [
       "<div>\n",
       "<style scoped>\n",
       "    .dataframe tbody tr th:only-of-type {\n",
       "        vertical-align: middle;\n",
       "    }\n",
       "\n",
       "    .dataframe tbody tr th {\n",
       "        vertical-align: top;\n",
       "    }\n",
       "\n",
       "    .dataframe thead th {\n",
       "        text-align: right;\n",
       "    }\n",
       "</style>\n",
       "<table border=\"1\" class=\"dataframe\">\n",
       "  <thead>\n",
       "    <tr style=\"text-align: right;\">\n",
       "      <th></th>\n",
       "      <th>sepal_length</th>\n",
       "      <th>sepal_width</th>\n",
       "      <th>petal_length</th>\n",
       "      <th>petal_width</th>\n",
       "      <th>species</th>\n",
       "    </tr>\n",
       "  </thead>\n",
       "  <tbody>\n",
       "    <tr>\n",
       "      <th>0</th>\n",
       "      <td>5.1</td>\n",
       "      <td>3.5</td>\n",
       "      <td>1.4</td>\n",
       "      <td>0.2</td>\n",
       "      <td>setosa</td>\n",
       "    </tr>\n",
       "    <tr>\n",
       "      <th>1</th>\n",
       "      <td>4.9</td>\n",
       "      <td>3.0</td>\n",
       "      <td>1.4</td>\n",
       "      <td>0.2</td>\n",
       "      <td>setosa</td>\n",
       "    </tr>\n",
       "    <tr>\n",
       "      <th>2</th>\n",
       "      <td>4.7</td>\n",
       "      <td>3.2</td>\n",
       "      <td>1.3</td>\n",
       "      <td>0.2</td>\n",
       "      <td>setosa</td>\n",
       "    </tr>\n",
       "    <tr>\n",
       "      <th>3</th>\n",
       "      <td>4.6</td>\n",
       "      <td>3.1</td>\n",
       "      <td>1.5</td>\n",
       "      <td>0.2</td>\n",
       "      <td>setosa</td>\n",
       "    </tr>\n",
       "    <tr>\n",
       "      <th>4</th>\n",
       "      <td>5.0</td>\n",
       "      <td>3.6</td>\n",
       "      <td>1.4</td>\n",
       "      <td>0.2</td>\n",
       "      <td>setosa</td>\n",
       "    </tr>\n",
       "  </tbody>\n",
       "</table>\n",
       "</div>"
      ],
      "text/plain": [
       "   sepal_length  sepal_width  petal_length  petal_width species\n",
       "0           5.1          3.5           1.4          0.2  setosa\n",
       "1           4.9          3.0           1.4          0.2  setosa\n",
       "2           4.7          3.2           1.3          0.2  setosa\n",
       "3           4.6          3.1           1.5          0.2  setosa\n",
       "4           5.0          3.6           1.4          0.2  setosa"
      ]
     },
     "execution_count": 23,
     "metadata": {},
     "output_type": "execute_result"
    }
   ],
   "source": [
    "#https://gist.githubusercontent.com/curran/a08a1080b88344b0c8a7/raw/639388c2cbc2120a14dcf466e85730eb8be498bb/iris.csv\n",
    "#link to download the CSV file\n",
    "data=pd.read_csv(\"iris.csv\");\n",
    "Iris=pd.DataFrame(data);\n",
    "Iris.head()"
   ]
  },
  {
   "cell_type": "code",
   "execution_count": 24,
   "metadata": {
    "colab": {},
    "colab_type": "code",
    "id": "j9BJfP9gAg2w",
    "outputId": "4d5cdfb3-ce6b-48c7-de08-929717ae65b6"
   },
   "outputs": [
    {
     "data": {
      "text/plain": [
       "(150, 5)"
      ]
     },
     "execution_count": 24,
     "metadata": {},
     "output_type": "execute_result"
    }
   ],
   "source": [
    "Iris.shape"
   ]
  },
  {
   "cell_type": "code",
   "execution_count": 25,
   "metadata": {
    "colab": {},
    "colab_type": "code",
    "id": "sHA5b1T8Ag22",
    "outputId": "f09e1e63-367a-48e9-ea85-00997dad5afe"
   },
   "outputs": [
    {
     "data": {
      "text/plain": [
       "(100, 5)"
      ]
     },
     "execution_count": 25,
     "metadata": {},
     "output_type": "execute_result"
    }
   ],
   "source": [
    "#since we are gonna perform binary classification using Logistic Regression we will only include first 100 samples which consists of irises’ (Setosa and Versicolour)\n",
    "#line2-------------\n",
    "df1=Iris[Iris['species']=='versicolor']\n",
    "df2=Iris[Iris['species']=='setosa']\n",
    "frames = [df1, df2]\n",
    "Iris = pd.concat(frames)\n",
    "Iris.shape"
   ]
  },
  {
   "cell_type": "code",
   "execution_count": 26,
   "metadata": {
    "colab": {},
    "colab_type": "code",
    "id": "MQVC0kAGAg28"
   },
   "outputs": [],
   "source": [
    "'''Step 2: Numerical processing\n",
    "replace 'Iris-setosa' as 0\n",
    "replace 'Iris-versicolor' as 1'''\n",
    "#line3-------------------------\n",
    "Iris[\"species\"].replace({\"setosa\": 0 , \"versicolor\": 1}, inplace=True)"
   ]
  },
  {
   "cell_type": "code",
   "execution_count": 27,
   "metadata": {
    "colab": {},
    "colab_type": "code",
    "id": "SPs6169hAg3C",
    "outputId": "a2726d81-b13d-44f7-a0c6-8696c3009121"
   },
   "outputs": [
    {
     "data": {
      "text/html": [
       "<div>\n",
       "<style scoped>\n",
       "    .dataframe tbody tr th:only-of-type {\n",
       "        vertical-align: middle;\n",
       "    }\n",
       "\n",
       "    .dataframe tbody tr th {\n",
       "        vertical-align: top;\n",
       "    }\n",
       "\n",
       "    .dataframe thead th {\n",
       "        text-align: right;\n",
       "    }\n",
       "</style>\n",
       "<table border=\"1\" class=\"dataframe\">\n",
       "  <thead>\n",
       "    <tr style=\"text-align: right;\">\n",
       "      <th></th>\n",
       "      <th>sepal_length</th>\n",
       "      <th>sepal_width</th>\n",
       "      <th>petal_length</th>\n",
       "      <th>petal_width</th>\n",
       "      <th>species</th>\n",
       "    </tr>\n",
       "  </thead>\n",
       "  <tbody>\n",
       "    <tr>\n",
       "      <th>50</th>\n",
       "      <td>7.0</td>\n",
       "      <td>3.2</td>\n",
       "      <td>4.7</td>\n",
       "      <td>1.4</td>\n",
       "      <td>1</td>\n",
       "    </tr>\n",
       "    <tr>\n",
       "      <th>51</th>\n",
       "      <td>6.4</td>\n",
       "      <td>3.2</td>\n",
       "      <td>4.5</td>\n",
       "      <td>1.5</td>\n",
       "      <td>1</td>\n",
       "    </tr>\n",
       "    <tr>\n",
       "      <th>52</th>\n",
       "      <td>6.9</td>\n",
       "      <td>3.1</td>\n",
       "      <td>4.9</td>\n",
       "      <td>1.5</td>\n",
       "      <td>1</td>\n",
       "    </tr>\n",
       "    <tr>\n",
       "      <th>53</th>\n",
       "      <td>5.5</td>\n",
       "      <td>2.3</td>\n",
       "      <td>4.0</td>\n",
       "      <td>1.3</td>\n",
       "      <td>1</td>\n",
       "    </tr>\n",
       "    <tr>\n",
       "      <th>54</th>\n",
       "      <td>6.5</td>\n",
       "      <td>2.8</td>\n",
       "      <td>4.6</td>\n",
       "      <td>1.5</td>\n",
       "      <td>1</td>\n",
       "    </tr>\n",
       "  </tbody>\n",
       "</table>\n",
       "</div>"
      ],
      "text/plain": [
       "    sepal_length  sepal_width  petal_length  petal_width  species\n",
       "50           7.0          3.2           4.7          1.4        1\n",
       "51           6.4          3.2           4.5          1.5        1\n",
       "52           6.9          3.1           4.9          1.5        1\n",
       "53           5.5          2.3           4.0          1.3        1\n",
       "54           6.5          2.8           4.6          1.5        1"
      ]
     },
     "execution_count": 27,
     "metadata": {},
     "output_type": "execute_result"
    }
   ],
   "source": [
    "Iris.head()"
   ]
  },
  {
   "cell_type": "code",
   "execution_count": 28,
   "metadata": {
    "colab": {},
    "colab_type": "code",
    "id": "1oJ78uA_Ag3I",
    "outputId": "5d07937f-c467-4515-bc98-c5ee78b04689"
   },
   "outputs": [
    {
     "data": {
      "image/png": "[encoded data removed]",
      "text/plain": [
       "<Figure size 432x288 with 1 Axes>"
      ]
     },
     "metadata": {},
     "output_type": "display_data"
    }
   ],
   "source": [
    "#visualization of given dataset\n",
    "#codesegment4------------------\n",
    "df=pd.DataFrame(Iris,columns=['sepal_width','sepal_length','species'])\n",
    "df1=df[df['species']==0]\n",
    "df2=df[df['species']==1]\n",
    "\n",
    "fig,ax = plt.subplots()\n",
    "ax.scatter(df1['sepal_length'], df1['sepal_width'], c='tab:blue', label='Iris-setosa',alpha=0.8,s=30)\n",
    "ax.scatter(df2['sepal_length'], df2['sepal_width'], c='tab:orange', label='Iris-versicolor',alpha=0.8,s=30)\n",
    "ax.legend(loc='best')\n",
    "ax.grid('True')\n",
    "plt.xlabel('SepalLength')\n",
    "plt.ylabel('SepalWidth')\n",
    "plt.show()\n",
    "\n"
   ]
  },
  {
   "cell_type": "code",
   "execution_count": 29,
   "metadata": {
    "colab": {},
    "colab_type": "code",
    "id": "o32UsRPJAg3P"
   },
   "outputs": [],
   "source": [
    "X = Iris.drop(labels=['species'], axis=1).values #feature matrix\n",
    "Y = Iris.species.values #output"
   ]
  },
  {
   "cell_type": "code",
   "execution_count": 30,
   "metadata": {
    "colab": {},
    "colab_type": "code",
    "id": "d__MZAtiAg3V"
   },
   "outputs": [],
   "source": [
    "'''Step 3: Split data\n",
    "trainset: 80%\n",
    "testset: 20%'''\n",
    "# set seed for numpy and tensorflow\n",
    "# set for reproducible results\n",
    "seed = 5\n",
    "np.random.seed(seed)\n",
    "tf.random.set_seed(seed)\n",
    "#randomnly select 80% of the indices under variable train_index and rest under test_index\n",
    "train_index=Iris.sample(frac=0.8,replace=False,random_state=5).index\n",
    "test_index = np.array(list(set(range(len(X))) - set(train_index)))"
   ]
  },
  {
   "cell_type": "code",
   "execution_count": 31,
   "metadata": {
    "colab": {},
    "colab_type": "code",
    "id": "tPmiCqbVAg3a"
   },
   "outputs": [],
   "source": [
    "train_X = np.array( X[train_index])\n",
    "train_y = Y[train_index]\n",
    "test_X = X[test_index]\n",
    "test_y = Y[test_index]"
   ]
  },
  {
   "cell_type": "code",
   "execution_count": 32,
   "metadata": {
    "colab": {},
    "colab_type": "code",
    "id": "-Ukkj8NSAg3f"
   },
   "outputs": [],
   "source": [
    "# Define the min-max normalization function\n",
    "def min_max_normalized(data): # we are using here min-max normalisation, helpful to bring down every values in all the feature columns of the dataset to common scale \n",
    "    min_max_scaler = preprocessing.MinMaxScaler()\n",
    "    data= min_max_scaler.fit_transform(data)\n",
    "    print(data)"
   ]
  },
  {
   "cell_type": "code",
   "execution_count": 33,
   "metadata": {
    "colab": {},
    "colab_type": "code",
    "id": "MLtDm47gAg3l",
    "outputId": "af04652c-e125-4d85-8d4c-e3f21881c46f"
   },
   "outputs": [],
   "source": [
    "# Begin building the model framework\n",
    "# Declare the variables that need to be learned and initialization\n",
    "# There are 4 features here, so W's dimension is (4, 1)\n",
    "tf.compat.v1.disable_eager_execution()\n",
    "W = tf.Variable(tf.random.normal(shape=[4, 1])) #weights\n",
    "B = tf.Variable(tf.random.normal(shape=[1, 1])) #bias\n",
    "init=tf.compat.v1.global_variables_initializer()\n",
    "#line10\n",
    "sess = tf.compat.v1.Session()\n",
    "sess.run(init)"
   ]
  },
  {
   "cell_type": "code",
   "execution_count": 34,
   "metadata": {
    "colab": {},
    "colab_type": "code",
    "id": "3D33yPKlAg3s"
   },
   "outputs": [],
   "source": [
    "# Define placeholders\n",
    "#tf.compat.v1.disable_eager_execution()\n",
    "data = tf.compat.v1.placeholder(dtype=tf.float32, shape=[None, 4])#comment on the difference between tf.placeholder and tf.variable-----\n",
    "target = tf.compat.v1.placeholder(dtype=tf.float32, shape=[None, 1])"
   ]
  },
  {
   "cell_type": "code",
   "execution_count": 14,
   "metadata": {
    "colab": {
     "base_uri": "https://localhost:8080/",
     "height": 233
    },
    "colab_type": "code",
    "executionInfo": {
     "elapsed": 2036,
     "status": "error",
     "timestamp": 1587831759036,
     "user": {
      "displayName": "Rajshree Singh",
      "photoUrl": "",
      "userId": "13678216986636707717"
     },
     "user_tz": -330
    },
    "id": "_M2SUf9BGKEQ",
    "outputId": "b5b6d4d3-a226-461d-e290-2225eabf5ba6"
   },
   "outputs": [],
   "source": [
    "a=tf.compat.v1.placeholder(tf.float32, shape=[None,4])\n",
    "b=tf.compat.v1.placeholder(tf.float32, shape=[None,1])\n",
    "w=tf.Variable(tf.random.normal(shape=[4,1]))\n",
    "mult=tf.matmul(a,w)\n",
    "init=tf.compat.v1.global_variables_initializer()\n",
    "with tf.compat.v1.Session() as sess:\n",
    "    sess.run(init)\n",
    "    mult_result=sess.run(mult, feed_dict={a:train_X})\n",
    "#print(mult_result)"
   ]
  },
  {
   "cell_type": "code",
   "execution_count": 35,
   "metadata": {
    "colab": {},
    "colab_type": "code",
    "id": "Ce45iz4dAg32"
   },
   "outputs": [],
   "source": [
    "# Declare the 'model' you need to learn\n",
    "#line11-------------------------------------------\n",
    "mod=tf.add(tf.matmul(data,W),B)"
   ]
  },
  {
   "cell_type": "code",
   "execution_count": 36,
   "metadata": {
    "colab": {},
    "colab_type": "code",
    "id": "Pvk6PwmhAg36"
   },
   "outputs": [],
   "source": [
    "# Declare loss function\n",
    "# Use the sigmoid cross-entropy loss function,\n",
    "# first doing a sigmoid on the model result and then using the cross-entropy loss function\n",
    "loss = tf.reduce_mean(tf.nn.sigmoid_cross_entropy_with_logits(logits=mod, labels=target))"
   ]
  },
  {
   "cell_type": "code",
   "execution_count": 37,
   "metadata": {
    "colab": {},
    "colab_type": "code",
    "id": "QnI6baGyAg3_"
   },
   "outputs": [],
   "source": [
    "# Define the learning rate， batch_size and number of iterations.\n",
    "#learning_rate\n",
    "learning_rate=0.001\n",
    "#batch_size---- #using batch makes the training ------?\n",
    "batch_size=80\n",
    "#line13--------------------------------\n",
    "iter_num=1502"
   ]
  },
  {
   "cell_type": "code",
   "execution_count": 38,
   "metadata": {
    "colab": {},
    "colab_type": "code",
    "id": "36wWl9-UAg4E"
   },
   "outputs": [],
   "source": [
    "# Define the optimizer with name opt\n",
    "opt=tf.compat.v1.train.GradientDescentOptimizer(learning_rate)\n",
    "# Define the goal\n",
    "goal = opt.minimize(loss)"
   ]
  },
  {
   "cell_type": "code",
   "execution_count": 39,
   "metadata": {
    "colab": {},
    "colab_type": "code",
    "id": "lCAkqMk1Ag4K"
   },
   "outputs": [],
   "source": [
    "# Define the accuracy\n",
    "# The default threshold is 0.5, rounded off directly\n",
    "prediction = tf.round(tf.sigmoid(mod))\n",
    "# Bool into float32 type\n",
    "correct = tf.cast(tf.equal(prediction, target), dtype=tf.float32)\n",
    "# Average\n",
    "accuracy = tf.reduce_mean(correct)\n",
    "# End of the definition of the model framework"
   ]
  },
  {
   "cell_type": "code",
   "execution_count": 40,
   "metadata": {
    "colab": {},
    "colab_type": "code",
    "id": "rBQW_wGqAg4Q"
   },
   "outputs": [],
   "source": [
    "# Start training model\n",
    "# Define the variable that stores the result\n",
    "loss_trace = []\n",
    "train_acc = []"
   ]
  },
  {
   "cell_type": "code",
   "execution_count": 41,
   "metadata": {
    "colab": {},
    "colab_type": "code",
    "id": "I2Orf3sWAg4V",
    "outputId": "38b3a647-c501-44ee-e9e2-9a9dc703babd"
   },
   "outputs": [
    {
     "name": "stdout",
     "output_type": "stream",
     "text": [
      "epoch:  100 loss: 4.510105 train_acc: 0.500000\n",
      "epoch:  200 loss: 3.493109 train_acc: 0.500000\n",
      "epoch:  300 loss: 2.611358 train_acc: 0.466667\n",
      "epoch:  400 loss: 1.574207 train_acc: 0.466667\n",
      "epoch:  500 loss: 0.917165 train_acc: 0.400000\n",
      "epoch:  600 loss: 0.449848 train_acc: 0.666667\n",
      "epoch:  700 loss: 0.420893 train_acc: 1.000000\n",
      "epoch:  800 loss: 0.388513 train_acc: 1.000000\n",
      "epoch:  900 loss: 0.374507 train_acc: 1.000000\n",
      "epoch: 1000 loss: 0.363372 train_acc: 1.000000\n",
      "epoch: 1100 loss: 0.367379 train_acc: 0.966667\n",
      "epoch: 1200 loss: 0.342283 train_acc: 1.000000\n",
      "epoch: 1300 loss: 0.314942 train_acc: 1.000000\n",
      "epoch: 1400 loss: 0.340420 train_acc: 1.000000\n",
      "epoch: 1500 loss: 0.312531 train_acc: 1.000000\n",
      "The test accuracy is: 1.000000\n"
     ]
    }
   ],
   "source": [
    "# training model using mini-batch gradient descent\n",
    "for epoch in range(iter_num):\n",
    "    # Generate random batch_index\n",
    "    #line15------------------------------ #randomnly picks up up 30 sample data from the train_X\n",
    "    batch_index=np.random.choice(range(len(train_X)),30,replace=False)\n",
    "    batch_train_X = train_X[batch_index]\n",
    "    batch_train_y = np.matrix(train_y[batch_index]).T\n",
    "    sess.run(goal, feed_dict={data: batch_train_X, target: batch_train_y})\n",
    "    temp_loss = sess.run(loss, feed_dict={data: batch_train_X, target: batch_train_y})\n",
    "    #Similarly store train accuracy value for current epoch using sess.run\n",
    "    #line16---------------------------\n",
    "    temp_train_acc=sess.run(accuracy,{data: batch_train_X, target: batch_train_y})\n",
    "    \n",
    "    # recode the results of loss and train accuracy\n",
    "    #codesegment17---------------------\n",
    "    loss_trace.append(temp_loss)\n",
    "    train_acc.append(temp_train_acc)\n",
    "    # output\n",
    "    if (epoch + 1) % 100 == 0:\n",
    "        print('epoch: {:4d} loss: {:5f} train_acc: {:5f}'.format(epoch + 1, temp_loss,\n",
    "                                                                          temp_train_acc))\n",
    "#Write the command to calculate test accuracy:\n",
    "#line18-------------------------------\n",
    "test_y=test_y.reshape(20,1)\n",
    "temp_test_acc = sess.run(accuracy,{data: test_X, target: test_y})\n",
    "print(\"The test accuracy is: {:5f}\".format(temp_test_acc))"
   ]
  },
  {
   "cell_type": "code",
   "execution_count": 42,
   "metadata": {
    "colab": {},
    "colab_type": "code",
    "id": "tbBZehEEAg4Z",
    "outputId": "6b9adaff-9ed8-4f59-be2a-659e48cc2f7c"
   },
   "outputs": [
    {
     "data": {
      "image/png": "[encoded data removed]",
      "text/plain": [
       "<Figure size 432x288 with 1 Axes>"
      ]
     },
     "metadata": {},
     "output_type": "display_data"
    }
   ],
   "source": [
    "# Visualization of the results\n",
    "# loss function\n",
    "epoch=range(len(loss_trace))\n",
    "plt.plot(epoch,loss_trace)\n",
    "plt.xlabel('epoch')\n",
    "plt.ylabel('loss')\n",
    "plt.title('Cross Entropy Loss')\n",
    "plt.show()"
   ]
  },
  {
   "cell_type": "code",
   "execution_count": 43,
   "metadata": {
    "colab": {},
    "colab_type": "code",
    "id": "SLO1EL-bAg4e",
    "outputId": "7c6f1dbc-ef48-47c5-be3f-a38c79c5e367"
   },
   "outputs": [
    {
     "data": {
      "image/png": "[encoded data removed]",
      "text/plain": [
       "<Figure size 432x288 with 1 Axes>"
      ]
     },
     "metadata": {},
     "output_type": "display_data"
    }
   ],
   "source": [
    "# plot for training accuracy\n",
    "#codesegment20---------------------------\n",
    "epoch=range(len(train_acc))\n",
    "plt.plot(epoch,train_acc)\n",
    "plt.xlabel('epoch')\n",
    "plt.ylabel('accuracy')\n",
    "plt.title('Train Accuracy')\n",
    "plt.show()"
   ]
  },
  {
   "cell_type": "code",
   "execution_count": null,
   "metadata": {},
   "outputs": [],
   "source": []
  }
 ],
 "metadata": {
  "colab": {
   "name": "week2_assignment.ipynb",
   "provenance": []
  },
  "kernelspec": {
   "display_name": "Python 3",
   "language": "python",
   "name": "python3"
  },
  "language_info": {
   "codemirror_mode": {
    "name": "ipython",
    "version": 3
   },
   "file_extension": ".py",
   "mimetype": "text/x-python",
   "name": "python",
   "nbconvert_exporter": "python",
   "pygments_lexer": "ipython3",
   "version": "3.7.7"
  }
 },
 "nbformat": 4,
 "nbformat_minor": 1
}
